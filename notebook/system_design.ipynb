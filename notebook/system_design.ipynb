{
 "cells": [
  {
   "attachments": {},
   "cell_type": "markdown",
   "metadata": {},
   "source": [
    "# key fearture for system design:\n",
    "    1) Analytics\n",
    "    2) Auditing\n",
    "    3) Reporting\n",
    "    5) Micro service architecture\n",
    "    6) distributed System\n",
    "    7) Load balancer\n",
    "    8) Decoupling\n",
    "    9) Loading\n",
    "    10) Exntensible ( Generlaize code for Service)\n",
    "    10) Verical Scaling, Horizontal Scaling\n",
    "    11) Pre-processing ( Cron job)\n",
    "    12) backups.\n",
    "    13) fault tolerance\n",
    "    14) Heart Beat Mechanism\n",
    "    15) message queue/Task queue. (RabbitMQ/Amazon SQS/ kafka)\n",
    "\n",
    "\n"
   ]
  },
  {
   "attachments": {},
   "cell_type": "markdown",
   "metadata": {},
   "source": [
    "# Load balancer algo:\n",
    "    1) round robin\n",
    "    2) Weighted Round Robin\n",
    "    3) Least Response Time Method\n",
    "    4) Least Connection Method\n",
    "    5) Source IP Hash \n",
    "    6) Global Server load balancing.(CDN)\n",
    "    6) consitent Hashing"
   ]
  },
  {
   "cell_type": "markdown",
   "metadata": {},
   "source": [
    "0) Consistency, Avalaibility, Scalability.\n",
    "1) atomicity, consistency, isolation, and durability\n",
    "1) Monolith vs Micro-Services ( Stackoverflow: monolith)\n",
    "2) Horizantal Partitionaing database sharding.\n",
    "2) Vertical Partitioning."
   ]
  },
  {
   "attachments": {},
   "cell_type": "markdown",
   "metadata": {},
   "source": [
    "# Sharding:\n",
    "\n",
    "\n",
    "    pros:\n",
    "        High Availability (Availability can be increased wirth Master-slave for each shard-partitiions.)\n",
    "        Faster queries response\n",
    "        More write bandwidth\n",
    "        Scaling out\n",
    "\n",
    "    cons:\n",
    "        Scaling out\n",
    "        re-sharding can be hard.\n",
    "        no native support by every database.(roll your own)\n",
    "        JOINS cross shard are hard\n",
    "        fixed number of sharding.(hierarichal sharding)\n",
    "        \n",
    "    Type:\n",
    "        Key based Sharding\n",
    "        range based Sharding\n",
    "        Directory Based Sharding"
   ]
  },
  {
   "attachments": {},
   "cell_type": "markdown",
   "metadata": {},
   "source": [
    "# Protocols:\n",
    "\n",
    "    1) XMPP\n",
    "    2) Web socket\n",
    "    3) HTTP\n",
    "    4) RMTP\n",
    "    5) ICMP / IMAP"
   ]
  },
  {
   "attachments": {},
   "cell_type": "markdown",
   "metadata": {},
   "source": [
    "# Database:\n",
    "    dynamo, Casandra (best frop recommedndation,) alternate is shardining/ horizontal partitioning for relation db\n",
    " "
   ]
  },
  {
   "attachments": {},
   "cell_type": "markdown",
   "metadata": {},
   "source": [
    "## Relationol DB:\n",
    "    1) update are also\n",
    "    3) built for join ( relation)\n",
    "\n",
    "\n",
    "## NOSQL: DB:\n",
    "    1) fast Insertion and Retrivel\n",
    "    0) filter search is slow.\n",
    "    2) join expensive.\n",
    "    3) Flex Schema\n",
    "    4) built for scale\n",
    "    5) for metrics/aggregated data etc.\n",
    "    6) ACID is not guranteed."
   ]
  },
  {
   "attachments": {},
   "cell_type": "markdown",
   "metadata": {},
   "source": [
    "# Casandra:\n",
    "\n",
    "    1) Load Balancing\n",
    "    2) Redundancy/Data REplication\n",
    "    3) SST - Sorted String Tasble ( immutable)\n",
    "\n",
    "    pros:\n",
    "\n",
    "    1. Continuous data availability is a compelling feature of Cassandra.\n",
    "    2. Cassandra has an overall cost-effective and low maintenance database platform.\n",
    "    3. It has high performance and low tolerance.\n",
    "    4. Cassandra is excellent for applications with serious issues with performance in their production systems.\n",
    "\n",
    "    cons:\n",
    "    1. Moving data from Cassandra to any relational database platform can be improved.\n",
    "    2. Database event logging can be handled more efficiently.\n",
    "    3. Cassandra does not support aggregates.\n",
    "    4. It doesn't fit for transactional data.\n",
    "\n",
    "    best use cases:\n",
    "    1. You have to work with a massive amount of data.\n",
    "    2. There are fewer secondary index needs.\n",
    "    3. There is no need for connections or aggregates.\n",
    "    4. There is a need for a distributed application."
   ]
  },
  {
   "cell_type": "markdown",
   "metadata": {},
   "source": [
    "zOOKEPER"
   ]
  },
  {
   "cell_type": "markdown",
   "metadata": {},
   "source": [
    "Elastic Search:\n",
    "1) "
   ]
  },
  {
   "cell_type": "markdown",
   "metadata": {},
   "source": [
    "Solution of 3\n",
    "\n",
    "\n",
    "\n",
    "\n",
    "\n",
    "\n",
    "Heavy load:\n",
    "1) Pre Scale\n",
    "2) Auto Scale\n",
    "3) RAte limiting.\n",
    "4) Batch Processing\n",
    "5) Caching. \n",
    "6) Graduyally deploymenty\n"
   ]
  },
  {
   "cell_type": "markdown",
   "metadata": {},
   "source": [
    "Location BAsed Database:\n",
    "\n",
    "1) use quad tree."
   ]
  },
  {
   "cell_type": "markdown",
   "metadata": {},
   "source": [
    "for Video System:\n",
    "\n",
    "Resolution: 360, 720, 1080, 2K . 4K\n",
    "codecs: HLS, daSH, aBR\n",
    "\n",
    "check difrent formats amd ther size \n",
    "fps deatils etc/"
   ]
  },
  {
   "cell_type": "markdown",
   "metadata": {},
   "source": [
    "Protocols:\n",
    "1) http for client\n",
    "2) smtp for live call.\n",
    "    ARP: (being used tol know mac from ip)\n",
    "    SMPT: SIMPLE Mail Tansfer protocol\n",
    "3) pop3\n",
    "4) imap"
   ]
  }
 ],
 "metadata": {
  "kernelspec": {
   "display_name": "Python 3",
   "language": "python",
   "name": "python3"
  },
  "language_info": {
   "codemirror_mode": {
    "name": "ipython",
    "version": 3
   },
   "file_extension": ".py",
   "mimetype": "text/x-python",
   "name": "python",
   "nbconvert_exporter": "python",
   "pygments_lexer": "ipython3",
   "version": "3.10.6 (main, Nov 14 2022, 16:10:14) [GCC 11.3.0]"
  },
  "vscode": {
   "interpreter": {
    "hash": "916dbcbb3f70747c44a77c7bcd40155683ae19c65e1c03b4aa3499c5328201f1"
   }
  }
 },
 "nbformat": 4,
 "nbformat_minor": 4
}
