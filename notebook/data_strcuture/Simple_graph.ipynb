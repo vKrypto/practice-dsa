{
 "cells": [
  {
   "cell_type": "code",
   "execution_count": 121,
   "metadata": {},
   "outputs": [],
   "source": [
    "\"\"\"\n",
    "simple Graph, wiht non-directed, non-weighted.\n",
    "\"\"\"\n",
    "\n",
    "\n",
    "class SimpleGraph:\n",
    "    def __init__(self, num_of_edges, edges):\n",
    "        self.edge_count = num_of_edges\n",
    "        self.data = [[] for _ in range(self.edge_count)]\n",
    "        for (from_node, to_node) in edges:\n",
    "            self.data[from_node].append(to_node)\n",
    "\n",
    "    def __repr__(self):\n",
    "        s = \"\"\n",
    "        for (i, nodes) in enumerate(self.data):\n",
    "            s += \"{i} --> {node} \\n\".format(i=i, node=nodes)\n",
    "        return s\n",
    "    \n",
    "    def __str__(self):\n",
    "        return self.__repr__()\n",
    "\n",
    "    def draw_path_to_elem(self, parent_nodes, source, target):\n",
    "        # starte from target, backtrack to source node.\n",
    "        cur_node = parent_nodes[target]\n",
    "        s = f\"{target}\"\n",
    "        while cur_node is not None:\n",
    "            s = f\"{cur_node}-->\" + s\n",
    "            cur_node = parent_nodes[cur_node]\n",
    "        return s\n",
    "\n",
    "    def bfs_explorer(self, root):\n",
    "        \"\"\"\n",
    "        for bfs we use queue data structure.\n",
    "        \"\"\"\n",
    "        visited = [False]*self.edge_count # mapping of nodes whether discovered ?\n",
    "        items = [] # bfs explrore items\n",
    "        parents = [None]*self.edge_count # corresponding parents.\n",
    "        weights = [None]*self.edge_count # corresponding weigths from root.\n",
    "        # mark root as visited.\n",
    "        queue = [root] # temp queue used to store callback nodes.\n",
    "        visited[root] = True\n",
    "        weights[root] = 0\n",
    "        while queue:\n",
    "            current_node = queue.pop(0)\n",
    "            items.append(current_node)\n",
    "            for edge in self.data[current_node]:\n",
    "                if not visited[edge]:\n",
    "                    visited[edge] = True\n",
    "                    queue.append(edge)\n",
    "                    parents[edge] = current_node\n",
    "                    weights[edge] = weights[current_node] + 1\n",
    "        # print path traveled from target to last node\n",
    "        print(\"path_followed-->\", self.draw_path_to_elem(parents, root, current_node))\n",
    "        print(\"(node, parent_node, weight_from_root)\")\n",
    "        print(list(zip(items, parents, weights)))\n",
    "        return items\n",
    "\n",
    "    def dfs_explorer(self, root):\n",
    "        \"\"\"\n",
    "        for dfs we mostly use stack.\n",
    "        \"\"\"\n",
    "        visited = [False]*self.edge_count # mapping of nodes whether discovered ?\n",
    "        items = [] # output\n",
    "        stack = [root]\n",
    "        while stack:\n",
    "            current_node = stack.pop()\n",
    "            \n",
    "            if not visited[current_node]:\n",
    "                # amrk as visited and store in items\n",
    "                visited[current_node] = True\n",
    "                items.append(current_node)\n",
    "\n",
    "            # append all children to stack, which are not visited\n",
    "            for edge in self.data[current_node]:\n",
    "                if not visited[edge]:\n",
    "                    stack.append(edge)\n",
    "        return items"
   ]
  },
  {
   "cell_type": "code",
   "execution_count": 122,
   "metadata": {},
   "outputs": [
    {
     "data": {
      "text/plain": [
       "0 --> [1, 2, 4] \n",
       "1 --> [2, 3] \n",
       "2 --> [3, 4] \n",
       "3 --> [4, 5] \n",
       "4 --> [5] \n",
       "5 --> [1, 2, 3, 4, 5] "
      ]
     },
     "execution_count": 122,
     "metadata": {},
     "output_type": "execute_result"
    }
   ],
   "source": [
    "# initialize Graph\n",
    "edges1 = [(0,1),(1,2),(2,3),(3,4),(0,2),(0,4), (1,3),\n",
    " (2,4), (3,5), (4,5), (5,1), (5,2), (5,3), (5,4), (5,5)]\n",
    "num_of_edges1 = 6\n",
    "# create a graph\n",
    "g1 = SimpleGraph(num_of_edges1, edges1)\n",
    "g1"
   ]
  },
  {
   "cell_type": "code",
   "execution_count": 123,
   "metadata": {},
   "outputs": [
    {
     "name": "stdout",
     "output_type": "stream",
     "text": [
      "path followed--> 0-->4-->5\n",
      "(node, parent_node, weight_from_root)\n",
      "[(0, None, 0), (1, 0, 1), (2, 0, 1), (4, 1, 2), (3, 0, 1), (5, 4, 2)]\n"
     ]
    },
    {
     "data": {
      "text/plain": [
       "[0, 1, 2, 4, 3, 5]"
      ]
     },
     "execution_count": 123,
     "metadata": {},
     "output_type": "execute_result"
    }
   ],
   "source": [
    "g1.bfs_explorer(0)"
   ]
  },
  {
   "cell_type": "code",
   "execution_count": 124,
   "metadata": {},
   "outputs": [
    {
     "data": {
      "text/plain": [
       "[0, 4, 5, 3, 2, 1]"
      ]
     },
     "execution_count": 124,
     "metadata": {},
     "output_type": "execute_result"
    }
   ],
   "source": [
    "g1.dfs_explorer(0)"
   ]
  }
 ],
 "metadata": {
  "kernelspec": {
   "display_name": "Python 3",
   "language": "python",
   "name": "python3"
  },
  "language_info": {
   "codemirror_mode": {
    "name": "ipython",
    "version": 3
   },
   "file_extension": ".py",
   "mimetype": "text/x-python",
   "name": "python",
   "nbconvert_exporter": "python",
   "pygments_lexer": "ipython3",
   "version": "3.10.6 (main, Nov 14 2022, 16:10:14) [GCC 11.3.0]"
  },
  "vscode": {
   "interpreter": {
    "hash": "916dbcbb3f70747c44a77c7bcd40155683ae19c65e1c03b4aa3499c5328201f1"
   }
  }
 },
 "nbformat": 4,
 "nbformat_minor": 4
}
