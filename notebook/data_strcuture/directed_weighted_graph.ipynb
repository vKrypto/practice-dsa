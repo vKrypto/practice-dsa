{
 "cells": [
  {
   "cell_type": "code",
   "execution_count": 27,
   "metadata": {},
   "outputs": [],
   "source": [
    "\"\"\"\n",
    "simple Graph, wiht non-directed, non-weighted.\n",
    "\"\"\"\n",
    "\n",
    "class Graph:\n",
    "    \"\"\"\n",
    "    can be directed \n",
    "    \"\"\"\n",
    "    def old(self, num_of_edges:int, edges:iter, is_directed:bool=True, is_weighted:bool=False):\n",
    "        \"\"\"\n",
    "        @params: num_of_edges: int\n",
    "        @params: is_directed: boolean\n",
    "        @params: is_weighted: boolean\n",
    "        @params: edges = [(from_node, to_node, weight)]\n",
    "        \"\"\"\n",
    "        self.edges_count = num_of_edges\n",
    "        self.is_directed = is_directed\n",
    "        self.is_weighted = is_weighted\n",
    "        # self.data is basically group by from_node\n",
    "        self.data = [{} for _ in range(self.edges_count)]\n",
    "\n",
    "        for edge in edges:\n",
    "            # edge : [from_node, to_node, weight)\n",
    "            if self.is_weighted:\n",
    "                self.data[edge[0]][edge[1]] = edge[2]\n",
    "            \n",
    "    def __init__(self, num_of_edges:int, edges:iter, is_directed:bool=True, is_weighted:bool=False):\n",
    "        \"\"\"\n",
    "        @params: num_of_edges: int\n",
    "        @params: is_directed: boolean\n",
    "        @params: is_weighted: boolean\n",
    "        @params: edges = [(from_node, to_node, weight)]\n",
    "        \"\"\"\n",
    "        self.edges_count = num_of_edges\n",
    "        self.is_directed = is_directed\n",
    "        self.is_weighted = is_weighted\n",
    "        self.data = [[] for _ in range(self.edges_count)]\n",
    "        if self.is_weighted:\n",
    "            self.weight = [[] for _ in range(self.edges_count)]\n",
    "        else:\n",
    "            self.weight = []\n",
    "\n",
    "        for edge in edges:\n",
    "            # edge : [from_node, to_node, weight)\n",
    "            self.data[edge[0]].append(edge[1])\n",
    "            if self.is_weighted:\n",
    "                self.weight[edge[0]].append(edge[2])\n",
    "            # if graph is not directed\n",
    "            if not self.is_directed:\n",
    "                self.data[edge[1]].append(edge[0])\n",
    "                if self.is_weighted:\n",
    "                    self.weight[edge[1]].append(edge[2])\n",
    "         \n",
    "    def __repr__(self):\n",
    "        s = \"\"\n",
    "        for (i, nodes) in enumerate(self.data):\n",
    "            if self.is_weighted:\n",
    "                s += \"{i} --> {node} \\n\".format(i=i, node=list(zip(nodes, self.weight[i])))\n",
    "            else:\n",
    "                s += \"{i} --> {node} \\n\".format(i=i, node=nodes)\n",
    "        return s\n",
    "    \n",
    "    def __str__(self):\n",
    "        return self.__repr__()\n",
    "\n",
    "    def draw_path_to_elem(self, parent_nodes, source, target):\n",
    "        # starte from target, backtrack to source node.\n",
    "        cur_node = parent_nodes[target]\n",
    "        s = f\"{target}\"\n",
    "        while cur_node is not None:\n",
    "            s = f\"{cur_node}-->\" + s\n",
    "            cur_node = parent_nodes[cur_node]\n",
    "        return s\n",
    "\n",
    "    def bfs_explorer(self, root):\n",
    "        \"\"\"\n",
    "        for bfs we use queue data structure.\n",
    "        \"\"\"\n",
    "        visited = [False]*self.edges_count # mapping of nodes whether discovered ?\n",
    "        items = [] # bfs explrore items\n",
    "        parents = [None]*self.edges_count # corresponding parents.\n",
    "        weights = [None]*self.edges_count # corresponding weigths from root.\n",
    "        # mark root as visited.\n",
    "        queue = [root] # temp queue used to store callback nodes.\n",
    "        visited[root] = True\n",
    "        weights[root] = 0\n",
    "        while queue:\n",
    "            current_node = queue.pop(0)\n",
    "            items.append(current_node)\n",
    "            for edge in self.data[current_node]:\n",
    "                if not visited[edge]:\n",
    "                    visited[edge] = True\n",
    "                    queue.append(edge)\n",
    "                    parents[edge] = current_node\n",
    "                    weights[edge] = weights[current_node] + 1\n",
    "        # print path traveled from target to last node\n",
    "        print(\"path_followed-->\", self.draw_path_to_elem(parents, root, current_node))\n",
    "        print(\"(node, parent_node, weight_from_root)\")\n",
    "        print(list(zip(items, parents, weights)))\n",
    "        return items\n",
    "\n",
    "    def dfs_explorer(self, root):\n",
    "        \"\"\"\n",
    "        for dfs we mostly use stack.\n",
    "        \"\"\"\n",
    "        visited = [False]*self.edges_count # mapping of nodes whether discovered ?\n",
    "        items = [] # output\n",
    "        stack = [root]\n",
    "        while stack:\n",
    "            current_node = stack.pop()\n",
    "            if not visited[current_node]:\n",
    "                # amrk as visited and store in items\n",
    "                visited[current_node] = True\n",
    "                items.append(current_node)\n",
    "\n",
    "            # append all children to stack, which are not visited\n",
    "            for edge in self.data[current_node]:\n",
    "                if not visited[edge]:\n",
    "                    stack.append(edge)\n",
    "        return items\n",
    "\n",
    "    def get_next_node(self, from_node, visited):\n",
    "        \"\"\"\n",
    "        return nodes from a node which has smallest weight, which is not visited yet\n",
    "        \"\"\"\n",
    "        weights = self.weight[from_node]\n",
    "        nodes = self.data[from_node]\n",
    "        min_val = weights[0]\n",
    "        min_node = None\n",
    "        min_weight = None\n",
    "        for i, weight in enumerate(weights):\n",
    "            if (min_weight is None or weight < min_weight) and not visited[nodes[i]]:\n",
    "                min_weight = weight\n",
    "                min_node = nodes[i]\n",
    "        return min_node, min_weight\n",
    "        \n",
    "\n",
    "    def update_distances(self, cur_node, distance, parent=None):\n",
    "        cur_node_distance = distance[cur_node]\n",
    "        nodes = self.data[cur_node]\n",
    "        weights = self.weight[cur_node]\n",
    "        for node, weight in zip(nodes, weights):\n",
    "            distance[node] = min(cur_node_distance + weight, distance[node])\n",
    "        return distance\n",
    "\n",
    "\n",
    "    def shortest_path(self, source, target):\n",
    "        visited = [False] * self.edges_count\n",
    "        distance = [float('inf')] * self.edges_count\n",
    "        \n",
    "        # update data for source node\n",
    "        distance[source] = 0\n",
    "        queue = [source]\n",
    "\n",
    "        while queue and not visited[target]:\n",
    "            cur_node = queue.pop(0)\n",
    "\n",
    "            # update distances..for nodes.. (check if we found better minimum distance)\n",
    "            distance = self.update_distances(cur_node, distance)\n",
    "\n",
    "            # get next neghbours having least distance..\n",
    "            next_node, _ = self.get_next_node(cur_node, visited)\n",
    "            queue.append(next_node)\n",
    "            \n",
    "            # mark as visited.\n",
    "            visited[cur_node] = True\n",
    "        \n",
    "        print(distance)\n",
    "\n",
    "        return distance[target]\n",
    "\n",
    "    \n",
    "    def shortest_path_1(self, source, target):\n",
    "        items = []\n",
    "        visited = [False] * self.edges_count\n",
    "        weights = [float('inf')] * self.edges_count\n",
    "        stack = [(source, 0)]\n",
    "        while stack:\n",
    "            curr_node = stack.pop()\n",
    "            cur_weight = weights[curr_node]\n",
    "            \n",
    "            items.append(curr_node)\n",
    "            visited[curr_node] =  True\n",
    "\n",
    "            nodes = self.data[curr_node]\n",
    "            next_node, next_node_weight = self.get_next_node(curr_node, visited)\n",
    "            if next_node is not None:\n",
    "                stack.append(next_node)\n",
    "        \n",
    "        print(items)"
   ]
  },
  {
   "cell_type": "code",
   "execution_count": 28,
   "metadata": {},
   "outputs": [
    {
     "data": {
      "text/plain": [
       "0 --> [1, 2, 4] \n",
       "1 --> [2, 3] \n",
       "2 --> [3, 4] \n",
       "3 --> [4, 5] \n",
       "4 --> [5] \n",
       "5 --> [1, 2, 3, 4, 5] "
      ]
     },
     "execution_count": 28,
     "metadata": {},
     "output_type": "execute_result"
    }
   ],
   "source": [
    "# initialize Graph\n",
    "edges1 = [(0,1),(1,2),(2,3),(3,4),(0,2),(0,4), (1,3),\n",
    " (2,4), (3,5), (4,5), (5,1), (5,2), (5,3), (5,4), (5,5)]\n",
    "# create a graph\n",
    "g1 = Graph(num_of_edges=6, edges=edges1)\n",
    "g1"
   ]
  },
  {
   "cell_type": "code",
   "execution_count": 9,
   "metadata": {},
   "outputs": [],
   "source": [
    "\"\"\"\n",
    "simple Graph, wiht non-directed, non-weighted.\n",
    "\"\"\"\n",
    "\n",
    "class WeightedGraph:\n",
    "    \"\"\"\n",
    "    can be directed \n",
    "    \"\"\"\n",
    "    def __init__(self, num_of_edges:int, edges:iter, is_directed:bool=True):\n",
    "        \"\"\"\n",
    "        @params: num_of_edges: int\n",
    "        @params: is_directed: boolean\n",
    "        @params: is_weighted: boolean\n",
    "        @params: edges = [(from_node, to_node, weight)]\n",
    "        \"\"\"\n",
    "        self.edges_count = num_of_edges\n",
    "        self.is_directed = is_directed\n",
    "        # self.data is basically group by from_node [{to_node:weight}]\n",
    "        self.data = [{} for _ in range(self.edges_count)]\n",
    "        for edge in edges:\n",
    "            # edge : [from_node, to_node, weight)\n",
    "            self.data[edge[0]][edge[1]] = edge[2]\n",
    "            if self.is_directed:\n",
    "                self.data[edge[1]][edge[0]] = edge[2]\n",
    "\n",
    "    def __repr__(self):\n",
    "        s = \"\"\n",
    "        for (i, nodes) in enumerate(self.data):\n",
    "            s += \"{i} --> {node} \\n\".format(i=i, node=nodes)\n",
    "        return s\n",
    "    \n",
    "    def __str__(self):\n",
    "        return self.__repr__()\n",
    "\n",
    "    def draw_path_to_elem(self, parent_nodes, source, target):\n",
    "        # starte from target, backtrack to source node.\n",
    "        cur_node = parent_nodes[target]\n",
    "        s = f\"{target}\"\n",
    "        while cur_node is not None:\n",
    "            s = f\"{cur_node}-->\" + s\n",
    "            cur_node = parent_nodes[cur_node]\n",
    "        return s\n",
    "\n",
    "    def bfs_explorer(self, root):\n",
    "        \"\"\"\n",
    "        for bfs we use queue data structure.\n",
    "        \"\"\"\n",
    "        visited = [False]*self.edges_count # mapping of nodes whether discovered ?\n",
    "        items = [] # bfs explrore items\n",
    "        parents = [None]*self.edges_count # corresponding parents.\n",
    "        weights = [None]*self.edges_count # corresponding weigths from root.\n",
    "        # mark root as visited.\n",
    "        queue = [root] # temp queue used to store callback nodes.\n",
    "        visited[root] = True\n",
    "        weights[root] = 0\n",
    "        while queue:\n",
    "            current_node = queue.pop(0)\n",
    "            items.append(current_node)\n",
    "            for edge, weight in self.data[current_node].items():\n",
    "                if not visited[edge]:\n",
    "                    visited[edge] = True\n",
    "                    queue.append(edge)\n",
    "                    parents[edge] = current_node\n",
    "                    weights[edge] = weights[current_node] + 1\n",
    "        # print path traveled from target to last node\n",
    "        print(\"path_followed-->\", self.draw_path_to_elem(parents, root, current_node))\n",
    "        print(\"(node, parent_node, weight_from_root)\")\n",
    "        print(list(zip(items, parents, weights)))\n",
    "        return items\n",
    "\n",
    "    def dfs_explorer(self, root):\n",
    "        \"\"\"\n",
    "        for dfs we mostly use stack.\n",
    "        \"\"\"\n",
    "        visited = [False]*self.edges_count # mapping of nodes whether discovered ?\n",
    "        items = [] # output\n",
    "        stack = [root]\n",
    "        while stack:\n",
    "            current_node = stack.pop()\n",
    "            if not visited[current_node]:\n",
    "                # amrk as visited and store in items\n",
    "                visited[current_node] = True\n",
    "                items.append(current_node)\n",
    "\n",
    "            # append all children to stack, which are not visited\n",
    "            for edge in self.data[current_node]:\n",
    "                if not visited[edge]:\n",
    "                    stack.append(edge)\n",
    "        return items\n",
    "\n",
    "    def get_next_node(self, from_node, visited):\n",
    "        \"\"\"\n",
    "        return nodes from a node which has smallest weight, which is not visited yet\n",
    "        \"\"\"\n",
    "        weights = self.weight[from_node]\n",
    "        nodes = self.data[from_node]\n",
    "        min_val = weights[0]\n",
    "        min_node = None\n",
    "        min_weight = None\n",
    "        for i, weight in enumerate(weights):\n",
    "            if (min_weight is None or weight < min_weight) and not visited[nodes[i]]:\n",
    "                min_weight = weight\n",
    "                min_node = nodes[i]\n",
    "        return min_node, min_weight\n",
    "        \n",
    "\n",
    "    def update_distances(self, cur_node, distance, parent=None):\n",
    "        cur_node_distance = distance[cur_node]\n",
    "        nodes = self.data[cur_node]\n",
    "        weights = self.weight[cur_node]\n",
    "        for node, weight in zip(nodes, weights):\n",
    "            distance[node] = min(cur_node_distance + weight, distance[node])\n",
    "        return distance\n",
    "\n",
    "\n",
    "    def shortest_path(self, source, target):\n",
    "        visited = [False] * self.edges_count\n",
    "        distance = [float('inf')] * self.edges_count\n",
    "        \n",
    "        # update data for source node\n",
    "        distance[source] = 0\n",
    "        queue = [source]\n",
    "\n",
    "        while queue and not visited[target]:\n",
    "            cur_node = queue.pop(0)\n",
    "\n",
    "            # update distances..for nodes.. (check if we found better minimum distance)\n",
    "            distance = self.update_distances(cur_node, distance)\n",
    "\n",
    "            # get next neghbours having least distance..\n",
    "            next_node, _ = self.get_next_node(cur_node, visited)\n",
    "            queue.append(next_node)\n",
    "            \n",
    "            # mark as visited.\n",
    "            visited[cur_node] = True\n",
    "        \n",
    "        print(distance)\n",
    "\n",
    "        return distance[target]\n",
    "\n",
    "    \n",
    "    def shortest_path_1(self, source, target):\n",
    "        items = []\n",
    "        visited = [False] * self.edges_count\n",
    "        weights = [float('inf')] * self.edges_count\n",
    "        stack = [(source, 0)]\n",
    "        while stack:\n",
    "            curr_node = stack.pop()\n",
    "            cur_weight = weights[curr_node]\n",
    "            \n",
    "            items.append(curr_node)\n",
    "            visited[curr_node] =  True\n",
    "\n",
    "            nodes = self.data[curr_node]\n",
    "            next_node, next_node_weight = self.get_next_node(curr_node, visited)\n",
    "            if next_node is not None:\n",
    "                stack.append(next_node)\n",
    "        \n",
    "        print(items)"
   ]
  },
  {
   "cell_type": "code",
   "execution_count": 10,
   "metadata": {},
   "outputs": [
    {
     "name": "stdout",
     "output_type": "stream",
     "text": [
      "[{1: 2, 2: 2, 4: 2}, {0: 2, 2: 2, 3: 2, 5: 2}, {1: 2, 3: 2, 0: 2, 4: 2, 5: 2}, {2: 2, 4: 2, 1: 2, 5: 2}, {3: 2, 0: 2, 2: 2, 5: 2}, {3: 2, 4: 2, 1: 2, 2: 2, 5: 2}]\n"
     ]
    },
    {
     "data": {
      "text/plain": [
       "0 --> {1: 2, 2: 2, 4: 2} \n",
       "1 --> {0: 2, 2: 2, 3: 2, 5: 2} \n",
       "2 --> {1: 2, 3: 2, 0: 2, 4: 2, 5: 2} \n",
       "3 --> {2: 2, 4: 2, 1: 2, 5: 2} \n",
       "4 --> {3: 2, 0: 2, 2: 2, 5: 2} \n",
       "5 --> {3: 2, 4: 2, 1: 2, 2: 2, 5: 2} "
      ]
     },
     "execution_count": 10,
     "metadata": {},
     "output_type": "execute_result"
    }
   ],
   "source": [
    "# initialize weighted graphs\n",
    "edges_2= [(0,1,2),(1,2,2),(2,3,2),(3,4,2),(0,2,2),(0,4,2), (1,3,2),\n",
    " (2,4,2), (3,5,2), (4,5,2), (5,1,2), (5,2,2), (5,3,2), (5,4,2), (5,5,2)]\n",
    "# create a graph\n",
    "g2 = WeightedGraph(num_of_edges=6, edges=edges_2)\n",
    "print(g2.data)\n",
    "g2"
   ]
  },
  {
   "cell_type": "code",
   "execution_count": 11,
   "metadata": {},
   "outputs": [
    {
     "name": "stdout",
     "output_type": "stream",
     "text": [
      "[{}, {}, {}, {}, {}, {}]\n"
     ]
    },
    {
     "data": {
      "text/plain": [
       "0 --> {} \n",
       "1 --> {} \n",
       "2 --> {} \n",
       "3 --> {} \n",
       "4 --> {} \n",
       "5 --> {} "
      ]
     },
     "execution_count": 11,
     "metadata": {},
     "output_type": "execute_result"
    }
   ],
   "source": [
    "# initialize Graph\n",
    "edges1 = [(0,1),(1,2),(2,3),(3,4),(0,2),(0,4), (1,3),\n",
    " (2,4), (3,5), (4,5), (5,1), (5,2), (5,3), (5,4), (5,5)]\n",
    "# create a graph\n",
    "g1 = Graph(num_of_edges=6, edges=edges1)\n",
    "print(g1.data)\n",
    "g1"
   ]
  },
  {
   "cell_type": "code",
   "execution_count": 12,
   "metadata": {},
   "outputs": [
    {
     "name": "stdout",
     "output_type": "stream",
     "text": [
      "path_followed--> 0\n",
      "(node, parent_node, weight_from_root)\n",
      "[(0, None, 0)]\n"
     ]
    },
    {
     "data": {
      "text/plain": [
       "[0]"
      ]
     },
     "execution_count": 12,
     "metadata": {},
     "output_type": "execute_result"
    }
   ],
   "source": [
    "g1.bfs_explorer(0)"
   ]
  },
  {
   "cell_type": "code",
   "execution_count": 13,
   "metadata": {},
   "outputs": [
    {
     "data": {
      "text/plain": [
       "[0]"
      ]
     },
     "execution_count": 13,
     "metadata": {},
     "output_type": "execute_result"
    }
   ],
   "source": [
    "g1.dfs_explorer(0)"
   ]
  },
  {
   "cell_type": "code",
   "execution_count": 14,
   "metadata": {},
   "outputs": [
    {
     "name": "stdout",
     "output_type": "stream",
     "text": [
      "[{1: 2, 2: 2, 4: 2}, {2: 2, 3: 2}, {3: 2, 4: 2}, {4: 2, 5: 2}, {5: 2}, {1: 2, 2: 2, 3: 2, 4: 2, 5: 2}]\n"
     ]
    },
    {
     "ename": "AttributeError",
     "evalue": "'Graph' object has no attribute 'weight'",
     "output_type": "error",
     "traceback": [
      "\u001b[0;31m---------------------------------------------------------------------------\u001b[0m",
      "\u001b[0;31mAttributeError\u001b[0m                            Traceback (most recent call last)",
      "File \u001b[0;32m~/Library/Python/3.9/lib/python/site-packages/IPython/core/formatters.py:708\u001b[0m, in \u001b[0;36mPlainTextFormatter.__call__\u001b[0;34m(self, obj)\u001b[0m\n\u001b[1;32m    701\u001b[0m stream \u001b[39m=\u001b[39m StringIO()\n\u001b[1;32m    702\u001b[0m printer \u001b[39m=\u001b[39m pretty\u001b[39m.\u001b[39mRepresentationPrinter(stream, \u001b[39mself\u001b[39m\u001b[39m.\u001b[39mverbose,\n\u001b[1;32m    703\u001b[0m     \u001b[39mself\u001b[39m\u001b[39m.\u001b[39mmax_width, \u001b[39mself\u001b[39m\u001b[39m.\u001b[39mnewline,\n\u001b[1;32m    704\u001b[0m     max_seq_length\u001b[39m=\u001b[39m\u001b[39mself\u001b[39m\u001b[39m.\u001b[39mmax_seq_length,\n\u001b[1;32m    705\u001b[0m     singleton_pprinters\u001b[39m=\u001b[39m\u001b[39mself\u001b[39m\u001b[39m.\u001b[39msingleton_printers,\n\u001b[1;32m    706\u001b[0m     type_pprinters\u001b[39m=\u001b[39m\u001b[39mself\u001b[39m\u001b[39m.\u001b[39mtype_printers,\n\u001b[1;32m    707\u001b[0m     deferred_pprinters\u001b[39m=\u001b[39m\u001b[39mself\u001b[39m\u001b[39m.\u001b[39mdeferred_printers)\n\u001b[0;32m--> 708\u001b[0m printer\u001b[39m.\u001b[39;49mpretty(obj)\n\u001b[1;32m    709\u001b[0m printer\u001b[39m.\u001b[39mflush()\n\u001b[1;32m    710\u001b[0m \u001b[39mreturn\u001b[39;00m stream\u001b[39m.\u001b[39mgetvalue()\n",
      "File \u001b[0;32m~/Library/Python/3.9/lib/python/site-packages/IPython/lib/pretty.py:410\u001b[0m, in \u001b[0;36mRepresentationPrinter.pretty\u001b[0;34m(self, obj)\u001b[0m\n\u001b[1;32m    407\u001b[0m                         \u001b[39mreturn\u001b[39;00m meth(obj, \u001b[39mself\u001b[39m, cycle)\n\u001b[1;32m    408\u001b[0m                 \u001b[39mif\u001b[39;00m \u001b[39mcls\u001b[39m \u001b[39mis\u001b[39;00m \u001b[39mnot\u001b[39;00m \u001b[39mobject\u001b[39m \\\n\u001b[1;32m    409\u001b[0m                         \u001b[39mand\u001b[39;00m \u001b[39mcallable\u001b[39m(\u001b[39mcls\u001b[39m\u001b[39m.\u001b[39m\u001b[39m__dict__\u001b[39m\u001b[39m.\u001b[39mget(\u001b[39m'\u001b[39m\u001b[39m__repr__\u001b[39m\u001b[39m'\u001b[39m)):\n\u001b[0;32m--> 410\u001b[0m                     \u001b[39mreturn\u001b[39;00m _repr_pprint(obj, \u001b[39mself\u001b[39;49m, cycle)\n\u001b[1;32m    412\u001b[0m     \u001b[39mreturn\u001b[39;00m _default_pprint(obj, \u001b[39mself\u001b[39m, cycle)\n\u001b[1;32m    413\u001b[0m \u001b[39mfinally\u001b[39;00m:\n",
      "File \u001b[0;32m~/Library/Python/3.9/lib/python/site-packages/IPython/lib/pretty.py:778\u001b[0m, in \u001b[0;36m_repr_pprint\u001b[0;34m(obj, p, cycle)\u001b[0m\n\u001b[1;32m    776\u001b[0m \u001b[39m\u001b[39m\u001b[39m\"\"\"A pprint that just redirects to the normal repr function.\"\"\"\u001b[39;00m\n\u001b[1;32m    777\u001b[0m \u001b[39m# Find newlines and replace them with p.break_()\u001b[39;00m\n\u001b[0;32m--> 778\u001b[0m output \u001b[39m=\u001b[39m \u001b[39mrepr\u001b[39;49m(obj)\n\u001b[1;32m    779\u001b[0m lines \u001b[39m=\u001b[39m output\u001b[39m.\u001b[39msplitlines()\n\u001b[1;32m    780\u001b[0m \u001b[39mwith\u001b[39;00m p\u001b[39m.\u001b[39mgroup():\n",
      "Cell \u001b[0;32mIn[8], line 58\u001b[0m, in \u001b[0;36mGraph.__repr__\u001b[0;34m(self)\u001b[0m\n\u001b[1;32m     56\u001b[0m \u001b[39mfor\u001b[39;00m (i, nodes) \u001b[39min\u001b[39;00m \u001b[39menumerate\u001b[39m(\u001b[39mself\u001b[39m\u001b[39m.\u001b[39mdata):\n\u001b[1;32m     57\u001b[0m     \u001b[39mif\u001b[39;00m \u001b[39mself\u001b[39m\u001b[39m.\u001b[39mis_weighted:\n\u001b[0;32m---> 58\u001b[0m         s \u001b[39m+\u001b[39m\u001b[39m=\u001b[39m \u001b[39m\"\u001b[39m\u001b[39m{i}\u001b[39;00m\u001b[39m --> \u001b[39m\u001b[39m{node}\u001b[39;00m\u001b[39m \u001b[39m\u001b[39m\\n\u001b[39;00m\u001b[39m\"\u001b[39m\u001b[39m.\u001b[39mformat(i\u001b[39m=\u001b[39mi, node\u001b[39m=\u001b[39m\u001b[39mlist\u001b[39m(\u001b[39mzip\u001b[39m(nodes, \u001b[39mself\u001b[39;49m\u001b[39m.\u001b[39;49mweight[i])))\n\u001b[1;32m     59\u001b[0m     \u001b[39melse\u001b[39;00m:\n\u001b[1;32m     60\u001b[0m         s \u001b[39m+\u001b[39m\u001b[39m=\u001b[39m \u001b[39m\"\u001b[39m\u001b[39m{i}\u001b[39;00m\u001b[39m --> \u001b[39m\u001b[39m{node}\u001b[39;00m\u001b[39m \u001b[39m\u001b[39m\\n\u001b[39;00m\u001b[39m\"\u001b[39m\u001b[39m.\u001b[39mformat(i\u001b[39m=\u001b[39mi, node\u001b[39m=\u001b[39mnodes)\n",
      "\u001b[0;31mAttributeError\u001b[0m: 'Graph' object has no attribute 'weight'"
     ]
    }
   ],
   "source": [
    "# initialize weighted graphs\n",
    "edges_2= [(0,1,2),(1,2,2),(2,3,2),(3,4,2),(0,2,2),(0,4,2), (1,3,2),\n",
    " (2,4,2), (3,5,2), (4,5,2), (5,1,2), (5,2,2), (5,3,2), (5,4,2), (5,5,2)]\n",
    "# create a graph\n",
    "g2 = Graph(num_of_edges=6, edges=edges_2, is_weighted=True)\n",
    "print(g2.data)\n",
    "g2"
   ]
  },
  {
   "cell_type": "code",
   "execution_count": null,
   "metadata": {},
   "outputs": [
    {
     "name": "stdout",
     "output_type": "stream",
     "text": [
      "path_followed--> 0-->4-->5\n",
      "(node, parent_node, weight_from_root)\n",
      "[(0, None, 0), (1, 0, 1), (2, 0, 1), (4, 1, 2), (3, 0, 1), (5, 4, 2)]\n"
     ]
    },
    {
     "data": {
      "text/plain": [
       "[0, 1, 2, 4, 3, 5]"
      ]
     },
     "execution_count": 58,
     "metadata": {},
     "output_type": "execute_result"
    }
   ],
   "source": [
    "g2.bfs_explorer(0)"
   ]
  },
  {
   "cell_type": "code",
   "execution_count": null,
   "metadata": {},
   "outputs": [
    {
     "data": {
      "text/plain": [
       "[0, 4, 5, 3, 2, 1]"
      ]
     },
     "execution_count": 59,
     "metadata": {},
     "output_type": "execute_result"
    }
   ],
   "source": [
    "g2.dfs_explorer(0)"
   ]
  },
  {
   "cell_type": "code",
   "execution_count": null,
   "metadata": {},
   "outputs": [
    {
     "name": "stdout",
     "output_type": "stream",
     "text": [
      "[0, 2, 2, 4, 2, 6]\n"
     ]
    },
    {
     "data": {
      "text/plain": [
       "4"
      ]
     },
     "execution_count": 60,
     "metadata": {},
     "output_type": "execute_result"
    }
   ],
   "source": [
    "g2.shortest_path(0,3)"
   ]
  }
 ],
 "metadata": {
  "kernelspec": {
   "display_name": "Python 3",
   "language": "python",
   "name": "python3"
  },
  "language_info": {
   "codemirror_mode": {
    "name": "ipython",
    "version": 3
   },
   "file_extension": ".py",
   "mimetype": "text/x-python",
   "name": "python",
   "nbconvert_exporter": "python",
   "pygments_lexer": "ipython3",
   "version": "3.9.6"
  },
  "vscode": {
   "interpreter": {
    "hash": "916dbcbb3f70747c44a77c7bcd40155683ae19c65e1c03b4aa3499c5328201f1"
   }
  }
 },
 "nbformat": 4,
 "nbformat_minor": 4
}
