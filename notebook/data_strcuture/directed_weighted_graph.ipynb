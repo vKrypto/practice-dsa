{
 "cells": [
  {
   "cell_type": "code",
   "execution_count": 62,
   "metadata": {},
   "outputs": [],
   "source": [
    "\"\"\"\n",
    "simple Graph, wiht non-directed, non-weighted.\n",
    "\"\"\"\n",
    "\n",
    "class Graph:\n",
    "    \"\"\"\n",
    "    can be directed \n",
    "    \"\"\"\n",
    "    def __init__(self, num_of_edges:int, edges:iter, is_directed:bool=True, is_weighted:bool=False):\n",
    "        \"\"\"\n",
    "        @params: num_of_edges: int\n",
    "        @params: is_directed: boolean\n",
    "        @params: is_weighted: boolean\n",
    "        @params: edges = [(from_node, to_node, weight)]\n",
    "        \"\"\"\n",
    "        self.edges_count = num_of_edges\n",
    "        self.is_directed = is_directed\n",
    "        self.is_weighted = is_weighted\n",
    "        # self.data is basically group by from_node\n",
    "        self.data = [{} for _ in range(self.edges_count)]\n",
    "\n",
    "        for edge in edges:\n",
    "            # edge : [from_node, to_node, weight)\n",
    "            if self.is_weighted:\n",
    "                self.data[edge[0]][edge[1]] = edge[2]\n",
    "            \n",
    "    def old_init(self, num_of_edges:int, edges:iter, is_directed:bool=True, is_weighted:bool=False):\n",
    "        \"\"\"\n",
    "        @params: num_of_edges: int\n",
    "        @params: is_directed: boolean\n",
    "        @params: is_weighted: boolean\n",
    "        @params: edges = [(from_node, to_node, weight)]\n",
    "        \"\"\"\n",
    "        self.edges_count = num_of_edges\n",
    "        self.is_directed = is_directed\n",
    "        self.is_weighted = is_weighted\n",
    "        self.data = [[] for _ in range(self.edges_count)]\n",
    "        if self.is_weighted:\n",
    "            self.weight = [[] for _ in range(self.edges_count)]\n",
    "        else:\n",
    "            self.weight = []\n",
    "\n",
    "        for edge in edges:\n",
    "            # edge : [from_node, to_node, weight)\n",
    "            self.data[edge[0]].append(edge[1])\n",
    "            if self.is_weighted:\n",
    "                self.weight[edge[0]].append(edge[2])\n",
    "            # if graph is not directed\n",
    "            if not self.is_directed:\n",
    "                self.data[edge[1]].append(edge[0])\n",
    "                if self.is_weighted:\n",
    "                    self.weight[edge[1]].append(edge[2])\n",
    "\n",
    "    def __repr__(self):\n",
    "        s = \"\"\n",
    "        for (i, nodes) in enumerate(self.data):\n",
    "            if self.is_weighted:\n",
    "                s += \"{i} --> {node} \\n\".format(i=i, node=list(zip(nodes, self.weight[i])))\n",
    "            else:\n",
    "                s += \"{i} --> {node} \\n\".format(i=i, node=nodes)\n",
    "        return s\n",
    "    \n",
    "    def __str__(self):\n",
    "        return self.__repr__()\n",
    "\n",
    "    def draw_path_to_elem(self, parent_nodes, source, target):\n",
    "        # starte from target, backtrack to source node.\n",
    "        cur_node = parent_nodes[target]\n",
    "        s = f\"{target}\"\n",
    "        while cur_node is not None:\n",
    "            s = f\"{cur_node}-->\" + s\n",
    "            cur_node = parent_nodes[cur_node]\n",
    "        return s\n",
    "\n",
    "    def bfs_explorer(self, root):\n",
    "        \"\"\"\n",
    "        for bfs we use queue data structure.\n",
    "        \"\"\"\n",
    "        visited = [False]*self.edges_count # mapping of nodes whether discovered ?\n",
    "        items = [] # bfs explrore items\n",
    "        parents = [None]*self.edges_count # corresponding parents.\n",
    "        weights = [None]*self.edges_count # corresponding weigths from root.\n",
    "        # mark root as visited.\n",
    "        queue = [root] # temp queue used to store callback nodes.\n",
    "        visited[root] = True\n",
    "        weights[root] = 0\n",
    "        while queue:\n",
    "            current_node = queue.pop(0)\n",
    "            items.append(current_node)\n",
    "            for edge in self.data[current_node]:\n",
    "                if not visited[edge]:\n",
    "                    visited[edge] = True\n",
    "                    queue.append(edge)\n",
    "                    parents[edge] = current_node\n",
    "                    weights[edge] = weights[current_node] + 1\n",
    "        # print path traveled from target to last node\n",
    "        print(\"path_followed-->\", self.draw_path_to_elem(parents, root, current_node))\n",
    "        print(\"(node, parent_node, weight_from_root)\")\n",
    "        print(list(zip(items, parents, weights)))\n",
    "        return items\n",
    "\n",
    "    def dfs_explorer(self, root):\n",
    "        \"\"\"\n",
    "        for dfs we mostly use stack.\n",
    "        \"\"\"\n",
    "        visited = [False]*self.edges_count # mapping of nodes whether discovered ?\n",
    "        items = [] # output\n",
    "        stack = [root]\n",
    "        while stack:\n",
    "            current_node = stack.pop()\n",
    "            if not visited[current_node]:\n",
    "                # amrk as visited and store in items\n",
    "                visited[current_node] = True\n",
    "                items.append(current_node)\n",
    "\n",
    "            # append all children to stack, which are not visited\n",
    "            for edge in self.data[current_node]:\n",
    "                if not visited[edge]:\n",
    "                    stack.append(edge)\n",
    "        return items\n",
    "\n",
    "    def get_next_node(self, from_node, visited):\n",
    "        \"\"\"\n",
    "        return nodes from a node which has smallest weight, which is not visited yet\n",
    "        \"\"\"\n",
    "        weights = self.weight[from_node]\n",
    "        nodes = self.data[from_node]\n",
    "        min_val = weights[0]\n",
    "        min_node = None\n",
    "        min_weight = None\n",
    "        for i, weight in enumerate(weights):\n",
    "            if (min_weight is None or weight < min_weight) and not visited[nodes[i]]:\n",
    "                min_weight = weight\n",
    "                min_node = nodes[i]\n",
    "        return min_node, min_weight\n",
    "        \n",
    "\n",
    "    def update_distances(self, cur_node, distance, parent=None):\n",
    "        cur_node_distance = distance[cur_node]\n",
    "        nodes = self.data[cur_node]\n",
    "        weights = self.weight[cur_node]\n",
    "        for node, weight in zip(nodes, weights):\n",
    "            distance[node] = min(cur_node_distance + weight, distance[node])\n",
    "        return distance\n",
    "\n",
    "\n",
    "    def shortest_path(self, source, target):\n",
    "        visited = [False] * self.edges_count\n",
    "        distance = [float('inf')] * self.edges_count\n",
    "        \n",
    "        # update data for source node\n",
    "        distance[source] = 0\n",
    "        queue = [source]\n",
    "\n",
    "        while queue and not visited[target]:\n",
    "            cur_node = queue.pop(0)\n",
    "\n",
    "            # update distances..for nodes.. (check if we found better minimum distance)\n",
    "            distance = self.update_distances(cur_node, distance)\n",
    "\n",
    "            # get next neghbours having least distance..\n",
    "            next_node, _ = self.get_next_node(cur_node, visited)\n",
    "            queue.append(next_node)\n",
    "            \n",
    "            # mark as visited.\n",
    "            visited[cur_node] = True\n",
    "        \n",
    "        print(distance)\n",
    "\n",
    "        return distance[target]\n",
    "\n",
    "    \n",
    "    def shortest_path_1(self, source, target):\n",
    "        items = []\n",
    "        visited = [False] * self.edges_count\n",
    "        weights = [float('inf')] * self.edges_count\n",
    "        stack = [(source, 0)]\n",
    "        while stack:\n",
    "            curr_node = stack.pop()\n",
    "            cur_weight = weights[curr_node]\n",
    "            \n",
    "            items.append(curr_node)\n",
    "            visited[curr_node] =  True\n",
    "\n",
    "            nodes = self.data[curr_node]\n",
    "            next_node, next_node_weight = self.get_next_node(curr_node, visited)\n",
    "            if next_node is not None:\n",
    "                stack.append(next_node)\n",
    "        \n",
    "        print(items)"
   ]
  },
  {
   "cell_type": "code",
   "execution_count": 66,
   "metadata": {},
   "outputs": [],
   "source": [
    "\"\"\"\n",
    "simple Graph, wiht non-directed, non-weighted.\n",
    "\"\"\"\n",
    "\n",
    "class WeightedGraph:\n",
    "    \"\"\"\n",
    "    can be directed \n",
    "    \"\"\"\n",
    "    def __init__(self, num_of_edges:int, edges:iter, is_directed:bool=True):\n",
    "        \"\"\"\n",
    "        @params: num_of_edges: int\n",
    "        @params: is_directed: boolean\n",
    "        @params: is_weighted: boolean\n",
    "        @params: edges = [(from_node, to_node, weight)]\n",
    "        \"\"\"\n",
    "        self.edges_count = num_of_edges\n",
    "        self.is_directed = is_directed\n",
    "        # self.data is basically group by from_node [{to_node:weight}]\n",
    "        self.data = [{} for _ in range(self.edges_count)]\n",
    "        for edge in edges:\n",
    "            # edge : [from_node, to_node, weight)\n",
    "            self.data[edge[0]][edge[1]] = edge[2]\n",
    "            if self.is_directed:\n",
    "                self.data[edge[1]][edge[0]] = edge[2]\n",
    "\n",
    "    def __repr__(self):\n",
    "        s = \"\"\n",
    "        for (i, nodes) in enumerate(self.data):\n",
    "            s += \"{i} --> {node} \\n\".format(i=i, node=nodes)\n",
    "        return s\n",
    "    \n",
    "    def __str__(self):\n",
    "        return self.__repr__()\n",
    "\n",
    "    def draw_path_to_elem(self, parent_nodes, source, target):\n",
    "        # starte from target, backtrack to source node.\n",
    "        cur_node = parent_nodes[target]\n",
    "        s = f\"{target}\"\n",
    "        while cur_node is not None:\n",
    "            s = f\"{cur_node}-->\" + s\n",
    "            cur_node = parent_nodes[cur_node]\n",
    "        return s\n",
    "\n",
    "    def bfs_explorer(self, root):\n",
    "        \"\"\"\n",
    "        for bfs we use queue data structure.\n",
    "        \"\"\"\n",
    "        visited = [False]*self.edges_count # mapping of nodes whether discovered ?\n",
    "        items = [] # bfs explrore items\n",
    "        parents = [None]*self.edges_count # corresponding parents.\n",
    "        weights = [None]*self.edges_count # corresponding weigths from root.\n",
    "        # mark root as visited.\n",
    "        queue = [root] # temp queue used to store callback nodes.\n",
    "        visited[root] = True\n",
    "        weights[root] = 0\n",
    "        while queue:\n",
    "            current_node = queue.pop(0)\n",
    "            items.append(current_node)\n",
    "            for edge, weight in self.data[current_node].items():\n",
    "                if not visited[edge]:\n",
    "                    visited[edge] = True\n",
    "                    queue.append(edge)\n",
    "                    parents[edge] = current_node\n",
    "                    weights[edge] = weights[current_node] + 1\n",
    "        # print path traveled from target to last node\n",
    "        print(\"path_followed-->\", self.draw_path_to_elem(parents, root, current_node))\n",
    "        print(\"(node, parent_node, weight_from_root)\")\n",
    "        print(list(zip(items, parents, weights)))\n",
    "        return items\n",
    "\n",
    "    def dfs_explorer(self, root):\n",
    "        \"\"\"\n",
    "        for dfs we mostly use stack.\n",
    "        \"\"\"\n",
    "        visited = [False]*self.edges_count # mapping of nodes whether discovered ?\n",
    "        items = [] # output\n",
    "        stack = [root]\n",
    "        while stack:\n",
    "            current_node = stack.pop()\n",
    "            if not visited[current_node]:\n",
    "                # amrk as visited and store in items\n",
    "                visited[current_node] = True\n",
    "                items.append(current_node)\n",
    "\n",
    "            # append all children to stack, which are not visited\n",
    "            for edge in self.data[current_node]:\n",
    "                if not visited[edge]:\n",
    "                    stack.append(edge)\n",
    "        return items\n",
    "\n",
    "    def get_next_node(self, from_node, visited):\n",
    "        \"\"\"\n",
    "        return nodes from a node which has smallest weight, which is not visited yet\n",
    "        \"\"\"\n",
    "        weights = self.weight[from_node]\n",
    "        nodes = self.data[from_node]\n",
    "        min_val = weights[0]\n",
    "        min_node = None\n",
    "        min_weight = None\n",
    "        for i, weight in enumerate(weights):\n",
    "            if (min_weight is None or weight < min_weight) and not visited[nodes[i]]:\n",
    "                min_weight = weight\n",
    "                min_node = nodes[i]\n",
    "        return min_node, min_weight\n",
    "        \n",
    "\n",
    "    def update_distances(self, cur_node, distance, parent=None):\n",
    "        cur_node_distance = distance[cur_node]\n",
    "        nodes = self.data[cur_node]\n",
    "        weights = self.weight[cur_node]\n",
    "        for node, weight in zip(nodes, weights):\n",
    "            distance[node] = min(cur_node_distance + weight, distance[node])\n",
    "        return distance\n",
    "\n",
    "\n",
    "    def shortest_path(self, source, target):\n",
    "        visited = [False] * self.edges_count\n",
    "        distance = [float('inf')] * self.edges_count\n",
    "        \n",
    "        # update data for source node\n",
    "        distance[source] = 0\n",
    "        queue = [source]\n",
    "\n",
    "        while queue and not visited[target]:\n",
    "            cur_node = queue.pop(0)\n",
    "\n",
    "            # update distances..for nodes.. (check if we found better minimum distance)\n",
    "            distance = self.update_distances(cur_node, distance)\n",
    "\n",
    "            # get next neghbours having least distance..\n",
    "            next_node, _ = self.get_next_node(cur_node, visited)\n",
    "            queue.append(next_node)\n",
    "            \n",
    "            # mark as visited.\n",
    "            visited[cur_node] = True\n",
    "        \n",
    "        print(distance)\n",
    "\n",
    "        return distance[target]\n",
    "\n",
    "    \n",
    "    def shortest_path_1(self, source, target):\n",
    "        items = []\n",
    "        visited = [False] * self.edges_count\n",
    "        weights = [float('inf')] * self.edges_count\n",
    "        stack = [(source, 0)]\n",
    "        while stack:\n",
    "            curr_node = stack.pop()\n",
    "            cur_weight = weights[curr_node]\n",
    "            \n",
    "            items.append(curr_node)\n",
    "            visited[curr_node] =  True\n",
    "\n",
    "            nodes = self.data[curr_node]\n",
    "            next_node, next_node_weight = self.get_next_node(curr_node, visited)\n",
    "            if next_node is not None:\n",
    "                stack.append(next_node)\n",
    "        \n",
    "        print(items)"
   ]
  },
  {
   "cell_type": "code",
   "execution_count": 67,
   "metadata": {},
   "outputs": [
    {
     "name": "stdout",
     "output_type": "stream",
     "text": [
      "[{1: 2, 2: 2, 4: 2}, {0: 2, 2: 2, 3: 2, 5: 2}, {1: 2, 3: 2, 0: 2, 4: 2, 5: 2}, {2: 2, 4: 2, 1: 2, 5: 2}, {3: 2, 0: 2, 2: 2, 5: 2}, {3: 2, 4: 2, 1: 2, 2: 2, 5: 2}]\n"
     ]
    },
    {
     "data": {
      "text/plain": [
       "0 --> {1: 2, 2: 2, 4: 2} \n",
       "1 --> {0: 2, 2: 2, 3: 2, 5: 2} \n",
       "2 --> {1: 2, 3: 2, 0: 2, 4: 2, 5: 2} \n",
       "3 --> {2: 2, 4: 2, 1: 2, 5: 2} \n",
       "4 --> {3: 2, 0: 2, 2: 2, 5: 2} \n",
       "5 --> {3: 2, 4: 2, 1: 2, 2: 2, 5: 2} "
      ]
     },
     "execution_count": 67,
     "metadata": {},
     "output_type": "execute_result"
    }
   ],
   "source": [
    "# initialize weighted graphs\n",
    "edges_2= [(0,1,2),(1,2,2),(2,3,2),(3,4,2),(0,2,2),(0,4,2), (1,3,2),\n",
    " (2,4,2), (3,5,2), (4,5,2), (5,1,2), (5,2,2), (5,3,2), (5,4,2), (5,5,2)]\n",
    "# create a graph\n",
    "g2 = WeightedGraph(num_of_edges=6, edges=edges_2)\n",
    "print(g2.data)\n",
    "g2"
   ]
  },
  {
   "cell_type": "code",
   "execution_count": 54,
   "metadata": {},
   "outputs": [
    {
     "name": "stdout",
     "output_type": "stream",
     "text": [
      "[[1, 2, 4], [2, 3], [3, 4], [4, 5], [5], [1, 2, 3, 4, 5]]\n"
     ]
    },
    {
     "data": {
      "text/plain": [
       "0 --> [1, 2, 4] \n",
       "1 --> [2, 3] \n",
       "2 --> [3, 4] \n",
       "3 --> [4, 5] \n",
       "4 --> [5] \n",
       "5 --> [1, 2, 3, 4, 5] "
      ]
     },
     "execution_count": 54,
     "metadata": {},
     "output_type": "execute_result"
    }
   ],
   "source": [
    "# initialize Graph\n",
    "edges1 = [(0,1),(1,2),(2,3),(3,4),(0,2),(0,4), (1,3),\n",
    " (2,4), (3,5), (4,5), (5,1), (5,2), (5,3), (5,4), (5,5)]\n",
    "# create a graph\n",
    "g1 = Graph(num_of_edges=6, edges=edges1)\n",
    "print(g1.data)\n",
    "g1"
   ]
  },
  {
   "cell_type": "code",
   "execution_count": 55,
   "metadata": {},
   "outputs": [
    {
     "name": "stdout",
     "output_type": "stream",
     "text": [
      "path_followed--> 0-->4-->5\n",
      "(node, parent_node, weight_from_root)\n",
      "[(0, None, 0), (1, 0, 1), (2, 0, 1), (4, 1, 2), (3, 0, 1), (5, 4, 2)]\n"
     ]
    },
    {
     "data": {
      "text/plain": [
       "[0, 1, 2, 4, 3, 5]"
      ]
     },
     "execution_count": 55,
     "metadata": {},
     "output_type": "execute_result"
    }
   ],
   "source": [
    "g1.bfs_explorer(0)"
   ]
  },
  {
   "cell_type": "code",
   "execution_count": 56,
   "metadata": {},
   "outputs": [
    {
     "data": {
      "text/plain": [
       "[0, 4, 5, 3, 2, 1]"
      ]
     },
     "execution_count": 56,
     "metadata": {},
     "output_type": "execute_result"
    }
   ],
   "source": [
    "g1.dfs_explorer(0)"
   ]
  },
  {
   "cell_type": "code",
   "execution_count": 57,
   "metadata": {},
   "outputs": [
    {
     "name": "stdout",
     "output_type": "stream",
     "text": [
      "[[1, 2, 4], [2, 3], [3, 4], [4, 5], [5], [1, 2, 3, 4, 5]]\n",
      "[[2, 2, 2], [2, 2], [2, 2], [2, 2], [2], [2, 2, 2, 2, 2]]\n"
     ]
    },
    {
     "data": {
      "text/plain": [
       "0 --> [(1, 2), (2, 2), (4, 2)] \n",
       "1 --> [(2, 2), (3, 2)] \n",
       "2 --> [(3, 2), (4, 2)] \n",
       "3 --> [(4, 2), (5, 2)] \n",
       "4 --> [(5, 2)] \n",
       "5 --> [(1, 2), (2, 2), (3, 2), (4, 2), (5, 2)] "
      ]
     },
     "execution_count": 57,
     "metadata": {},
     "output_type": "execute_result"
    }
   ],
   "source": [
    "# initialize weighted graphs\n",
    "edges_2= [(0,1,2),(1,2,2),(2,3,2),(3,4,2),(0,2,2),(0,4,2), (1,3,2),\n",
    " (2,4,2), (3,5,2), (4,5,2), (5,1,2), (5,2,2), (5,3,2), (5,4,2), (5,5,2)]\n",
    "# create a graph\n",
    "g2 = Graph(num_of_edges=6, edges=edges_2, is_weighted=True)\n",
    "print(g2.data)\n",
    "print(g2.weight)\n",
    "g2"
   ]
  },
  {
   "cell_type": "code",
   "execution_count": 58,
   "metadata": {},
   "outputs": [
    {
     "name": "stdout",
     "output_type": "stream",
     "text": [
      "path_followed--> 0-->4-->5\n",
      "(node, parent_node, weight_from_root)\n",
      "[(0, None, 0), (1, 0, 1), (2, 0, 1), (4, 1, 2), (3, 0, 1), (5, 4, 2)]\n"
     ]
    },
    {
     "data": {
      "text/plain": [
       "[0, 1, 2, 4, 3, 5]"
      ]
     },
     "execution_count": 58,
     "metadata": {},
     "output_type": "execute_result"
    }
   ],
   "source": [
    "g2.bfs_explorer(0)"
   ]
  },
  {
   "cell_type": "code",
   "execution_count": 59,
   "metadata": {},
   "outputs": [
    {
     "data": {
      "text/plain": [
       "[0, 4, 5, 3, 2, 1]"
      ]
     },
     "execution_count": 59,
     "metadata": {},
     "output_type": "execute_result"
    }
   ],
   "source": [
    "g2.dfs_explorer(0)"
   ]
  },
  {
   "cell_type": "code",
   "execution_count": 60,
   "metadata": {},
   "outputs": [
    {
     "name": "stdout",
     "output_type": "stream",
     "text": [
      "[0, 2, 2, 4, 2, 6]\n"
     ]
    },
    {
     "data": {
      "text/plain": [
       "4"
      ]
     },
     "execution_count": 60,
     "metadata": {},
     "output_type": "execute_result"
    }
   ],
   "source": [
    "g2.shortest_path(0,3)"
   ]
  }
 ],
 "metadata": {
  "kernelspec": {
   "display_name": "Python 3",
   "language": "python",
   "name": "python3"
  },
  "language_info": {
   "codemirror_mode": {
    "name": "ipython",
    "version": 3
   },
   "file_extension": ".py",
   "mimetype": "text/x-python",
   "name": "python",
   "nbconvert_exporter": "python",
   "pygments_lexer": "ipython3",
   "version": "3.10.6 (main, Nov 14 2022, 16:10:14) [GCC 11.3.0]"
  },
  "vscode": {
   "interpreter": {
    "hash": "916dbcbb3f70747c44a77c7bcd40155683ae19c65e1c03b4aa3499c5328201f1"
   }
  }
 },
 "nbformat": 4,
 "nbformat_minor": 4
}
