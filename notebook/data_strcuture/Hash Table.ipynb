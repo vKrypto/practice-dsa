{
 "cells": [
  {
   "cell_type": "code",
   "execution_count": null,
   "metadata": {},
   "outputs": [],
   "source": [
    "class HashTable:\n",
    "    \n",
    "    def __init__(self):\n",
    "        self.size= 10\n",
    "        self.keys = [None] * self.size\n",
    "        self.values = [None] * self.size\n",
    "        \n",
    "    def put(self, key, data):\n",
    "        index = self.hashfunction(key)\n",
    "        while self.keys[index] is not None:\n",
    "            if self.keys[index] == key:\n",
    "                self.values[index] = data\n",
    "                return\n",
    "            #rehashing try to find another slot\n",
    "            index = (index+1)%self.size    \n",
    "        # insert\n",
    "        self.keys[index] = key\n",
    "        self.values[index] = data\n",
    "\n",
    "    def get(self, key):\n",
    "        index = self.hashfunction(key)\n",
    "        while self.keys[index] is not None:\n",
    "            if self.keys[index] == key:\n",
    "                return self.values[index]\n",
    "            index = (index + 1) %self.size\n",
    "            \n",
    "        return None\n",
    "    \n",
    "    def hashfunction(self, key):\n",
    "        return sum([ord(i) for i in key]) % self.size\n",
    "    \n",
    "    \n",
    "table= HashTable()\n",
    "table.put('apple1', 20)\n",
    "table.put('apple2', 21)\n",
    "table.put('apple3', 22)\n",
    "table.put('apple4', 40)\n",
    "table.put('apple5', 50)\n",
    "\n",
    "\n",
    "print(table.get('apple1'))\n",
    "print(table.keys)\n",
    "print(table.values)"
   ]
  },
  {
   "cell_type": "code",
   "execution_count": 9,
   "metadata": {},
   "outputs": [
    {
     "data": {
      "text/plain": [
       "39"
      ]
     },
     "execution_count": 9,
     "metadata": {},
     "output_type": "execute_result"
    }
   ],
   "source": [
    "round(26/0.66)"
   ]
  },
  {
   "cell_type": "code",
   "execution_count": 72,
   "metadata": {},
   "outputs": [],
   "source": [
    "class Node:\n",
    "    \n",
    "    def __init__(self, ch):\n",
    "        self.char = ch\n",
    "        self.left = None\n",
    "        self.right = None\n",
    "        self.middle = None\n",
    "        self.value = 0\n",
    "        \n",
    "    def __repr__(self):\n",
    "        return self.char\n",
    "        return '<N: %s-%d>' %(self.char, self.value)"
   ]
  },
  {
   "cell_type": "code",
   "execution_count": 76,
   "metadata": {},
   "outputs": [
    {
     "name": "stdout",
     "output_type": "stream",
     "text": [
      "5 :>>> ------------------------------ f\n",
      "4 :>>> ------------------------ m\n",
      "3 :>>> ------------------ q\n",
      "2 :>>> ------------ q\n",
      "1 :>>> ------ b\n",
      "5 :>>> ------------------------------ d\n",
      "4 :>>> ------------------------ k\n",
      "3 :>>> ------------------ o\n",
      "2 :>>> ------------ o\n",
      "5 :>>> ------------------------------ c\n",
      "4 :>>> ------------------------ e\n",
      "3 :>>> ------------------ l\n",
      "2 :>>> ------------ p\n",
      "1 :>>> ------ p\n",
      "0 :>>>  a\n"
     ]
    }
   ],
   "source": [
    "class TST:\n",
    "    \n",
    "    def __init__(self):\n",
    "        self.root = None        \n",
    "        \n",
    "    def put(self, key , value):\n",
    "        self.root = self.putItem(self.root, key, value, 0)\n",
    "        \n",
    "    def putItem(self, node , key, value, index):\n",
    "        c = key[index]\n",
    "        if node == None:\n",
    "            node = Node(c)\n",
    "        if c < node.char:\n",
    "            node.left = self.putItem(node.left, key, value, index)\n",
    "        elif c > node.char:\n",
    "            node.left = self.putItem(node.right, key, value, index)\n",
    "        elif index < len(key)-1:\n",
    "            node.middle = self.putItem(node.middle, key, value, index+1)\n",
    "        else:\n",
    "            node.value = value\n",
    "        return node\n",
    "    \n",
    "\n",
    "    #     def display(self):\n",
    "    #         if not self.root:\n",
    "    #             print('no entry')\n",
    "    #             return None\n",
    "    #         self._display(self.root)\n",
    "\n",
    "    #     def _display(self, node):\n",
    "    #         if node:\n",
    "    #             print(node, '--------->>>>>', node.left or '', ' '*5, node.middle or '', ' '*5, node.right or '', )\n",
    "    #         if node.left:\n",
    "    #             self._display(node.left)\n",
    "    #         if node.middle:\n",
    "    #             self._display(node.middle)\n",
    "    #         if node.right:\n",
    "    #             self._display(node.right)\n",
    "        \n",
    "    def display(self):\n",
    "        self._display(self.root, 0)\n",
    "        \n",
    "    def _display(self, p, level):\n",
    "        if p is None:\n",
    "            return\n",
    "        self._display(p.left, level+1)\n",
    "        \n",
    "        self._display(p.middle, level+1)\n",
    "        self._display(p.right, level+1)\n",
    "        \n",
    "        print(level,':>>>',\"---\"*level*2, p)\n",
    "        \n",
    "    def get(self, key):\n",
    "        nod = self.getItem(self.root, key, 0)\n",
    "        if nod == None:\n",
    "            return -1\n",
    "        return nod.value\n",
    "    \n",
    "    def getItem(self, node, key, index):\n",
    "        if not node:\n",
    "            return None\n",
    "        c = key[index]\n",
    "        if c > node.char:\n",
    "             return self.getItem(node.left, key, index)\n",
    "        elif c < node.char:\n",
    "            return self.getItem(node.right, key, index)\n",
    "\n",
    "        elif index < len(key)-1:\n",
    "            return self.getItem(node.middle, key, index+1)\n",
    "        else:\n",
    "            return node\n",
    "        \n",
    "        \n",
    "tst = TST()\n",
    "tst.put('apple', 100)\n",
    "tst.put('bqqmf', 100)\n",
    "tst.put('aookd', 100)\n",
    "tst.put('applec', 100)\n",
    "tst.get('bqqmf') \n",
    "tst.display()"
   ]
  },
  {
   "cell_type": "code",
   "execution_count": 68,
   "metadata": {},
   "outputs": [
    {
     "name": "stdout",
     "output_type": "stream",
     "text": [
      "<Node: a> --------->>>>> <Node: b>       <Node: p>       \n",
      "<Node: b> --------->>>>>        <Node: q>       \n",
      "<Node: q> --------->>>>>        <Node: q>       \n",
      "<Node: q> --------->>>>>        <Node: m>       \n",
      "<Node: m> --------->>>>>        <Node: f>       \n",
      "<Node: f> --------->>>>>               \n",
      "<Node: p> --------->>>>> <Node: o>       <Node: p>       \n",
      "<Node: o> --------->>>>>        <Node: o>       \n",
      "<Node: o> --------->>>>>        <Node: k>       \n",
      "<Node: k> --------->>>>>        <Node: d>       \n",
      "<Node: d> --------->>>>>               \n",
      "<Node: p> --------->>>>>        <Node: l>       \n",
      "<Node: l> --------->>>>>        <Node: e>       \n",
      "<Node: e> --------->>>>>        <Node: c>       \n",
      "<Node: c> --------->>>>>               \n"
     ]
    }
   ],
   "source": []
  }
 ],
 "metadata": {
  "kernelspec": {
   "display_name": "Python 3",
   "language": "python",
   "name": "python3"
  },
  "language_info": {
   "codemirror_mode": {
    "name": "ipython",
    "version": 3
   },
   "file_extension": ".py",
   "mimetype": "text/x-python",
   "name": "python",
   "nbconvert_exporter": "python",
   "pygments_lexer": "ipython3",
   "version": "3.10.6 (main, Nov 14 2022, 16:10:14) [GCC 11.3.0]"
  },
  "vscode": {
   "interpreter": {
    "hash": "916dbcbb3f70747c44a77c7bcd40155683ae19c65e1c03b4aa3499c5328201f1"
   }
  }
 },
 "nbformat": 4,
 "nbformat_minor": 4
}
