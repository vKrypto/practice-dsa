{
 "cells": [
  {
   "cell_type": "code",
   "execution_count": 1,
   "metadata": {},
   "outputs": [],
   "source": [
    "import sys\n",
    "import heapq"
   ]
  },
  {
   "cell_type": "code",
   "execution_count": null,
   "metadata": {},
   "outputs": [],
   "source": [
    "# prim's algorithm for minimum spanning tree.\\\n",
    "# cons does not support for disconnected graphs.\n",
    "\n",
    "def min_weight_edge_connected_from_visited_nodes():\n",
    "    # find min weight edge for which to_node is not in visited_nodes to avoid cycles\n",
    "    edges_weight_lists = []\n",
    "    for node in visited_nodes:\n",
    "        for edge in node.connected_edges:\n",
    "            if edge.to_node not in visited_nodes:\n",
    "                edges_weight_lists.append(edge.weight)\n",
    "    edge = min(edges_weight_lists)\n",
    "    return edge\n",
    "\n",
    "\n",
    "all_nodes = []\n",
    "edge = min(all_nodes.weight)\n",
    "visited_nodes = [edge.from_node, edge.to_node]\n",
    "edges = [] \n",
    "\n",
    "while len(edges) < len(all_nodes)-1:\n",
    "    edge = min_weight_edge_connected_from_visited_nodes()\n",
    "    edges.append(edge)\n",
    "    visited_nodes.append(edge.to_node)\n",
    "\n",
    "    "
   ]
  },
  {
   "cell_type": "code",
   "execution_count": null,
   "metadata": {},
   "outputs": [],
   "source": [
    "# krushkal's algorithm for minimum spannning tree\n",
    "# pros: also works on discoonected graphs\n",
    "\n",
    "def min_weight_edge():\n",
    "    # for min_weight_edge, make sure that (edge.from_node, edge.to_node) both are not visited to avoid cycles\n",
    "    while True:\n",
    "        edge = all_edges.pop_min_weight_edge()\n",
    "        if edge.to_node not in visited_nodes and edge.from_node not in visited_nodes:\n",
    "            return edge\n",
    "\n",
    "all_edges = []\n",
    "edges = []\n",
    "all_nodes = []\n",
    "visited_nodes = []\n",
    "\n",
    "while len(edges) < len(all_nodes)-1:\n",
    "    edge = min_weight_edge()\n",
    "    visited_nodes.append(edge.from_node, edge.to_node)"
   ]
  },
  {
   "cell_type": "code",
   "execution_count": null,
   "metadata": {},
   "outputs": [],
   "source": [
    "# dijsktra algorithm\n",
    "# greedy approach\n",
    "# pros: may not required to iterate all the nodes and edges\n",
    "# cons: does not work well with negative weights\n",
    "\n",
    "\"\"\"\n",
    "min_distance_from_source_node = {node: infinity}\n",
    "weights = [from_node][to_node]\n",
    "\n",
    "edge_weight_queue = [source_node]\n",
    "\n",
    "while nodes_queue:\n",
    "    // use min-heap to find min distance node\n",
    "    cur_node = find node for min(edge_weight_queue)\n",
    "\n",
    "    for node in cur_node.all_connected_nodes():\n",
    "        \n",
    "        new_distance = min_distance_from_source_node[cur_node] +  weight[from=cur_node][to=node]\n",
    "        if min_distance_from_source_node[node] > new_distance:\n",
    "            min_distance_from_source_node[node] = new_distance\n",
    "\n",
    "        edge_weight_queue.append(node.edge_weight)\n",
    "\n",
    "\n",
    "get edges from that node and check if they can be relaxed\n",
    "\n",
    "\"\"\""
   ]
  },
  {
   "cell_type": "code",
   "execution_count": null,
   "metadata": {},
   "outputs": [],
   "source": [
    "# bellman-ford algorithm\n",
    "# dynamic problem approach\n",
    "# pros:can work with negative weights also\n",
    "# cons: time complexity is high\n",
    "\n",
    "\"\"\"\n",
    "min_distance_from_source_node = {node: infinity}\n",
    "weights = [from_node][to_node]\n",
    "\n",
    "# loop over all nodes\n",
    "for node in nodes:\n",
    "# loop over all connected nodes and try relaxation for them\n",
    "    for connected_node in node.connected_nodes:\n",
    "        new_distance = min_distance_from_source_node[node] + weight[from=node][to=connected_node]\n",
    "        if min_distance_from_source_node[connected_node] > new_distance:\n",
    "            min_distance_from_source_node[connected_node] = new_distance\n",
    "\n",
    "\"\"\""
   ]
  },
  {
   "cell_type": "code",
   "execution_count": null,
   "metadata": {},
   "outputs": [],
   "source": []
  },
  {
   "cell_type": "code",
   "execution_count": 2,
   "metadata": {},
   "outputs": [],
   "source": [
    "class Edge:\n",
    "    \n",
    "    def __init__(self, weight, startVertex, targetVertex):\n",
    "        self.weight = weight\n",
    "        self.startVertex = startVertex\n",
    "        self.targetVertex = targetVertex\n",
    "        \n",
    "class Node:\n",
    "    \n",
    "    def __init__(self, name):\n",
    "        self.name = name\n",
    "        self.visited = False\n",
    "        self.predecessor = None\n",
    "        self.adjacentList = []\n",
    "        self.minDistance = sys.maxsize # placeholder for infinity\n",
    "        \n",
    "    def __cmp__(self, otherVertex):\n",
    "        return self.cmp(self.minDistance, otherVertex.minDistance)\n",
    "    \n",
    "    def __lt__(self, otherVertex):\n",
    "        return self.minDistance < otherVertex.minDistance\n",
    "        "
   ]
  },
  {
   "cell_type": "code",
   "execution_count": 3,
   "metadata": {},
   "outputs": [],
   "source": [
    "class Dijkastra:\n",
    "    \n",
    "    def calculateShortestpath(self, vertexList, startVertex):\n",
    "        q = []\n",
    "        startVertex.minDistance = 0\n",
    "        heapq.heappush(q, startVertex)"
   ]
  },
  {
   "cell_type": "code",
   "execution_count": null,
   "metadata": {},
   "outputs": [],
   "source": []
  }
 ],
 "metadata": {
  "kernelspec": {
   "display_name": "Python 3",
   "language": "python",
   "name": "python3"
  },
  "language_info": {
   "codemirror_mode": {
    "name": "ipython",
    "version": 3
   },
   "file_extension": ".py",
   "mimetype": "text/x-python",
   "name": "python",
   "nbconvert_exporter": "python",
   "pygments_lexer": "ipython3",
   "version": "3.10.6 (main, Nov 14 2022, 16:10:14) [GCC 11.3.0]"
  },
  "vscode": {
   "interpreter": {
    "hash": "916dbcbb3f70747c44a77c7bcd40155683ae19c65e1c03b4aa3499c5328201f1"
   }
  }
 },
 "nbformat": 4,
 "nbformat_minor": 4
}
