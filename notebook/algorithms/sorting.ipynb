{
 "cells": [
  {
   "cell_type": "code",
   "execution_count": 15,
   "metadata": {},
   "outputs": [
    {
     "name": "stdout",
     "output_type": "stream",
     "text": [
      "[13, 13, 2, 49, 49, 33, 25, 3, 16, 33, 43, 7, 10, 48, 0, 27, 48, 7, 30, 29]\n"
     ]
    }
   ],
   "source": [
    "import random\n",
    "x = [random.randint(0, 49) for i in range(500)]\n",
    "print(x[:20])"
   ]
  },
  {
   "cell_type": "code",
   "execution_count": 16,
   "metadata": {},
   "outputs": [
    {
     "name": "stdout",
     "output_type": "stream",
     "text": [
      "sorting done in  124251 steps  1666 swaps for 500 items\n",
      "better than O(n2)  time saved: -48.7004 %\n",
      "[0, 0, 0, 0, 0, 0, 0, 1, 1, 1, 1, 1, 1, 1, 1, 1, 1, 1, 1, 2]\n"
     ]
    }
   ],
   "source": [
    "'''\n",
    "selection sort concept:\n",
    "   select a part of of list and find min/max, and swap with the first one/last one,\n",
    "   select remaining list and find min/max and swap with second one, \n",
    "   ......r\n",
    "actually..\n",
    "for i in len(list):\n",
    "    swap(list[i], min(list[i:]))\n",
    "\n",
    "'''\n",
    "random.shuffle(x)\n",
    "loops, swaps = 0, 0\n",
    "#---------------------------------------\n",
    "for i in range(1, len(x)-1):\n",
    "    min_index = i\n",
    "    # find min from remaining list\n",
    "    for j in range(i+1, len(x)):\n",
    "        loops += 1\n",
    "        if x[j] < x[min_index]:\n",
    "            swaps +=1\n",
    "            min_index = j\n",
    "    # swap, and took it to at front.\n",
    "    x[i-1], x[min_index] = x[min_index], x[i-1] \n",
    "#--------------------------------------------\n",
    "print('sorting done in ', loops,  'steps ',swaps ,'swaps for 500 items')\n",
    "print('better than O(n2)', ' time saved:', 100*(50**2-loops)/500**2, '%')\n",
    "print(x[:20])\n",
    "      \n",
    "# timeComplexity: O(n2), {avg, worst, best all are same.}\n",
    "# not a data sensitive sort\n",
    "# less data movement\n",
    "# in-place sort.\n",
    "# un-stable sort."
   ]
  },
  {
   "cell_type": "code",
   "execution_count": 17,
   "metadata": {},
   "outputs": [
    {
     "name": "stdout",
     "output_type": "stream",
     "text": [
      "sorting done in  124047 steps  63365 swaps for 500 items\n",
      "better than O(n2)  time saved: -48.6188 %\n",
      "[0, 0, 0, 0, 0, 0, 0, 1, 1, 1, 1, 1, 1, 1, 1, 1, 1, 1, 1, 2]\n"
     ]
    }
   ],
   "source": [
    "'''\n",
    "bubble sort concept:\n",
    "for i in list:\n",
    "    ...move the biggest to left..\n",
    "    for j in list:\n",
    "        compare with adjacent and swap bigger one to left \n",
    "basically worst than selection sort, but this is stable sort, so it is reasonable.\n",
    "'''\n",
    "loops, swaps = 0, 0\n",
    "random.shuffle(x)\n",
    "# -----------------------------\n",
    "for i in range(len(x)-1):\n",
    "    swap = 0\n",
    "    # find biggest and move to end.\n",
    "    for j in range(len(x)-i-1):\n",
    "        loops += 1\n",
    "        if x[j] > x[j+1]:\n",
    "            swaps += 1\n",
    "            swap += 1\n",
    "            x[j], x[j+1] = x[j+1], x[j]\n",
    "    if not swap:\n",
    "        break\n",
    "# -------------------------------\n",
    "print('sorting done in ', loops,  'steps ',swaps ,'swaps for 500 items')\n",
    "print('better than O(n2)', ' time saved:', 100*(50**2-loops)/500**2, '%')\n",
    "print(x[:20])\n",
    "      \n",
    "# timeComplexity: O(n2) (for worst), O(n) (for best)\n",
    "# data  sensitive sort\n",
    "# less data movement\n",
    "# in-place sort.\n",
    "# stable sort."
   ]
  },
  {
   "cell_type": "code",
   "execution_count": 18,
   "metadata": {},
   "outputs": [
    {
     "name": "stdout",
     "output_type": "stream",
     "text": [
      "sorting done in  59711 steps  59711 swaps for 500 items\n",
      "better than O(n2)  time saved: -22.8844 %\n",
      "[0, 0, 0, 0, 0, 0, 0, 1, 1, 1, 1, 1, 1, 1, 1, 1, 1, 1, 1, 2]\n"
     ]
    }
   ],
   "source": [
    "'''\n",
    "insertion sort concept:\n",
    "for item in list:\n",
    "    find good place for that item and insert it there\n",
    "'''\n",
    "loops,swaps = 0,0\n",
    "random.shuffle(x)\n",
    "l = len(x)\n",
    "for i in range(1, l):\n",
    "    temp = x[i]\n",
    "    j = i-1\n",
    "    while j >= 0 and x[j] > temp:\n",
    "        loops += 1\n",
    "        x[j+1] = x[j]\n",
    "        j = j-1\n",
    "    x[j+1] = temp\n",
    "    \n",
    "# -------------------------------\n",
    "\n",
    "print('sorting done in ', loops,  'steps ',loops ,'swaps for 500 items')\n",
    "print('better than O(n2)', ' time saved:', 100*(50**2-loops)/500**2, '%')\n",
    "print(x[:20])\n",
    "# timeComplexity: O(n2) (for worst), O(n) (for best)\n",
    "# data  sensitive sort\n",
    "# less data movement\n",
    "# in-place sort.\n",
    "# stable sort."
   ]
  },
  {
   "cell_type": "code",
   "execution_count": 19,
   "metadata": {},
   "outputs": [],
   "source": [
    "# recursive merge sort concept: use divide and conquer method\n",
    "# break into sublist untill size of lst is 1,\n",
    "# start merging recursively.\n",
    "\n",
    "# timecomplexity O(nlog2n)\n",
    "# not-place sort.(required O(n) extra space to perform task)\n",
    "# stable sort."
   ]
  },
  {
   "cell_type": "code",
   "execution_count": 20,
   "metadata": {},
   "outputs": [],
   "source": [
    "# iterative merge sort concept: use combine and conquer method\n",
    "# assume sublist of size 1,\n",
    "# start merging with adjacent iteratively."
   ]
  },
  {
   "cell_type": "code",
   "execution_count": 21,
   "metadata": {},
   "outputs": [],
   "source": [
    "# quick sort concept: use divide and conquer method\n",
    "\n",
    "# step -1: take first item as a pivot and find it's place,\n",
    "# step -2: for left-list and right-list do the same , untill size of sublist get 1\n",
    "\n",
    "# un-stable sort."
   ]
  },
  {
   "cell_type": "code",
   "execution_count": null,
   "metadata": {},
   "outputs": [],
   "source": []
  }
 ],
 "metadata": {
  "kernelspec": {
   "display_name": "Python 3.10.6 64-bit",
   "language": "python",
   "name": "python3"
  },
  "language_info": {
   "codemirror_mode": {
    "name": "ipython",
    "version": 3
   },
   "file_extension": ".py",
   "mimetype": "text/x-python",
   "name": "python",
   "nbconvert_exporter": "python",
   "pygments_lexer": "ipython3",
   "version": "3.10.6 (main, Nov 14 2022, 16:10:14) [GCC 11.3.0]"
  },
  "vscode": {
   "interpreter": {
    "hash": "916dbcbb3f70747c44a77c7bcd40155683ae19c65e1c03b4aa3499c5328201f1"
   }
  }
 },
 "nbformat": 4,
 "nbformat_minor": 4
}
