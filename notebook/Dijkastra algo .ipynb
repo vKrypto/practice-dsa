{
 "cells": [
  {
   "cell_type": "code",
   "execution_count": 1,
   "metadata": {},
   "outputs": [],
   "source": [
    "import sys\n",
    "import heapq"
   ]
  },
  {
   "cell_type": "code",
   "execution_count": 3,
   "metadata": {},
   "outputs": [],
   "source": [
    "class Edge:\n",
    "    \n",
    "    def __init__(self, weight, startVertex, targetVertex):\n",
    "        self.weight = weight\n",
    "        self.startVertex = startVertex\n",
    "        self.targetVertex = targetVertex\n",
    "        \n",
    "class Node:\n",
    "    \n",
    "    def __init__(self, name):\n",
    "        self.name = name\n",
    "        self.visited = False\n",
    "        self.predecessor = None\n",
    "        self.adjacentList = []\n",
    "        self.minDistance = sys.maxsize # placeholder for infinity\n",
    "        \n",
    "    def __cmp__(self, otherVertex):\n",
    "        return self.cmp(self.minDistance, otherVertex.minDistance)\n",
    "    \n",
    "    def __lt__(self, otherVertex):\n",
    "        return self.minDistance < otherVertex.minDistance\n",
    "        "
   ]
  },
  {
   "cell_type": "code",
   "execution_count": null,
   "metadata": {},
   "outputs": [],
   "source": [
    "class Dijkastra:\n",
    "    \n",
    "    def calculateShortestpath(self, vertexList, startVertex):\n",
    "        q = []\n",
    "        startVertex.minDistance = 0\n",
    "        heapq.heappush(q, startVertex)"
   ]
  },
  {
   "cell_type": "code",
   "execution_count": null,
   "metadata": {},
   "outputs": [],
   "source": []
  }
 ],
 "metadata": {
  "kernelspec": {
   "display_name": "Python 3.11.0 64-bit",
   "language": "python",
   "name": "python3"
  },
  "language_info": {
   "codemirror_mode": {
    "name": "ipython",
    "version": 3
   },
   "file_extension": ".py",
   "mimetype": "text/x-python",
   "name": "python",
   "nbconvert_exporter": "python",
   "pygments_lexer": "ipython3",
   "version": "3.10.12"
  },
  "vscode": {
   "interpreter": {
    "hash": "28532c16bfafc08368bc5bddbf35ab83bd9a5c58b4fd356abb13a9f7a6a9758c"
   }
  }
 },
 "nbformat": 4,
 "nbformat_minor": 4
}
